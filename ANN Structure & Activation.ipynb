{
 "cells": [
  {
   "cell_type": "markdown",
   "id": "918cd76e",
   "metadata": {},
   "source": [
    "# Basic Architecture\n",
    "\n",
    "-> input layer (no nodes)\n",
    " \n",
    "-> each will have an associated weight value and bias \n",
    "\n",
    "-> enters a series of hidden layers where it is processed through each neurons activation function \n",
    "\n",
    "-> output layer \n",
    "\n",
    "\n",
    "Every layer in between the input and output layer is a hidden layer\n",
    "\n",
    "The entire arrangement is known as the architecture of the network\n",
    "\n",
    "The number of layers in th network, besides the input, is the depth.\n",
    "\n",
    "Layers are fully connected if each node of one layer is connected to each node of the next layer, without any connections between non-consecutive layers.\n",
    "\n",
    "The structure of artificial neural networks are said to loosley be based on the workings of the human brain.\n",
    "\n",
    "For each node, inputs are multiplied by their respective weights and summed together.\n",
    "\n",
    "Each node is also assocaited with a bias"
   ]
  },
  {
   "cell_type": "markdown",
   "id": "8ab77183",
   "metadata": {},
   "source": [
    "# Activation Functions\n",
    "\n",
    "The activation function will take the weighted sum of each connection entering a specific node of a layer, and will perform a calculation to transform this weighted sum into a certain number within a defined range of values (e.g. between 0 and 1).The activation function transforms the input values of the layer nodes and introduces the non-linearity into the model which is necessary for the model to be trained and to learn the relationships between the data. The function essentially determines the extent to which a neuron should be active, ultimately deciding whether the input from a specific neuron is important or relevant to the prediction task at hand. Without the activation function, the network would just become a form of linear regression. Non-linearity allows the network nodes to learn more complex features. \n",
    "\n",
    "https://www.v7labs.com/blog/neural-networks-activation-functions\n",
    "\n",
    "https://machinelearningmastery.com/rectified-linear-activation-function-for-deep-learning-neural-networks/\n",
    "\n"
   ]
  },
  {
   "cell_type": "markdown",
   "id": "b1562469",
   "metadata": {},
   "source": [
    "## Heaviside Step function (Perceptron)\n",
    "\n",
    "A simple activation function, returning a 1 if the output is non-negative and a 0 if the output is negative. \n",
    "\n",
    "\\begin{equation}\n",
    "S(x) = \\theta(x) = \\frac{\\text{sgn}(x)+1}{2} =\\begin{cases}\n",
    "1 & \\text{if $x>0$}\\\\\n",
    "1/2 & \\text{if $x=0$}\\\\\n",
    "0 & \\text{else}\n",
    "\\end{cases}\n",
    "\\end{equation}"
   ]
  },
  {
   "cell_type": "code",
   "execution_count": 1,
   "id": "5c8e4263",
   "metadata": {},
   "outputs": [
    {
     "data": {
      "text/plain": [
       "Text(0.5, 0, 'x')"
      ]
     },
     "execution_count": 1,
     "metadata": {},
     "output_type": "execute_result"
    },
    {
     "data": {
      "image/png": "[encoded data removed]",
      "text/plain": [
       "<Figure size 432x288 with 1 Axes>"
      ]
     },
     "metadata": {
      "needs_background": "light"
     },
     "output_type": "display_data"
    }
   ],
   "source": [
    "# heaviside step function code\n",
    "import matplotlib.pyplot as plt\n",
    "import numpy as np\n",
    "myx = np.linspace(-5,5, 500)\n",
    "plt.plot(myx, (np.sign(myx)+1)/2)\n",
    "plt.xlabel(\"x\")"
   ]
  },
  {
   "cell_type": "markdown",
   "id": "a634cc76",
   "metadata": {},
   "source": [
    "## Sigmoid\n",
    "\n",
    "Sigmoid is an activtation function that takes the weighted sums of of each connection entering a a node of a layer and and will output a continuous value between 0 and 1, depending on how negative or positive the weighted sum is. If the weighted sum is very positive, the output will be a value closer to 1. If it is more negative, the output the wlll be a value closer to 0. A weighted sum of 0 results in an output of 0.5, or midway within this smooth function. Sigmoid can be slow to perform. \n",
    "\n",
    "\\begin{equation}\n",
    "S(x) = \\frac{1}{1+\\exp(-x)}\n",
    "\\end{equation}"
   ]
  },
  {
   "cell_type": "code",
   "execution_count": 6,
   "id": "eac20ce8",
   "metadata": {},
   "outputs": [
    {
     "data": {
      "text/plain": [
       "[<matplotlib.lines.Line2D at 0x7f2801fa3e20>]"
      ]
     },
     "execution_count": 6,
     "metadata": {},
     "output_type": "execute_result"
    },
    {
     "data": {
      "image/png": "[encoded data removed]",
      "text/plain": [
       "<Figure size 432x288 with 1 Axes>"
      ]
     },
     "metadata": {
      "needs_background": "light"
     },
     "output_type": "display_data"
    }
   ],
   "source": [
    "# sigmoid code\n",
    "\n",
    "myx = np.linspace(-5,5, 500)\n",
    "plt.plot(myx, 1/(1+np.exp(-myx)))"
   ]
  },
  {
   "cell_type": "markdown",
   "id": "042dabe9",
   "metadata": {},
   "source": [
    "## ReLU\n",
    "\n",
    "This function is the 'rectified linear unit activation function' and works by taking the sum of weigths from th e previous layer and either returns a 0 if the output is below 0, or returns the output itself if it is greater than 0 (positive). The function will actually be linear for positive values, but overall will be non linear due to negative values being returned as 0. Because of this half linear and half non linear output of the ReLU function, it can be referred to as a piecewise linear function. With this activation function, the more positive the sum of weights value is, the more 'activated' the network node/neuron should be. Also, because certain neurons will be set to 0, and thus deactivated, the ReLU function is computationally efficient to perform. *Note - Dying relu problem*\n",
    "\n",
    "\\begin{equation}\n",
    "\\text{ReLU}(x) = \\max(0,x)\n",
    "\\end{equation}\n"
   ]
  },
  {
   "cell_type": "code",
   "execution_count": 9,
   "id": "070f7043",
   "metadata": {},
   "outputs": [],
   "source": [
    "# ReLU code\n",
    "\n",
    "#if input > 0:\n",
    "#    return input\n",
    "#else:\n",
    "#    return 0\n",
    "\n",
    "def relu(x):\n",
    "    return max(0.0, x)"
   ]
  },
  {
   "cell_type": "markdown",
   "id": "8262a35b",
   "metadata": {},
   "source": [
    "## tanh"
   ]
  },
  {
   "cell_type": "markdown",
   "id": "05ab8b71",
   "metadata": {},
   "source": [
    "The tan hyberbolical function is similar to the sigmoid function. It is a non-linear function that takes the weighted sums of of each connection entering a a node of a layer and transforms this value into a continuous value between -1 and 1, depending on how negative or positive the weighted sum is. It is therefore centred around 0.\n",
    "\n",
    "```python\n",
    "plt.axhline(0,c=\"k\")\n",
    "plt.plot(myx, np.tanh(myx),label=\"tanh\")\n",
    "    \n",
    "plt.ylim([-1.1,2])\n",
    "plt.legend()\n",
    "```"
   ]
  },
  {
   "cell_type": "markdown",
   "id": "680758ea",
   "metadata": {},
   "source": [
    "## Softmax"
   ]
  },
  {
   "cell_type": "markdown",
   "id": "b4501bcc",
   "metadata": {},
   "source": [
    "The softmax function is most often used within the output layer of the model. This function transforms the values generated by the output layer into a probability value. This allows the final output from a network to be interpeted as a probability distirbution. This is useful in situations where we have a more complex classification problem, involving more than just two possible classes or labels. Each output will be assigned a probability distribution, with the highest probability value corresponding to the class (output) which the model beleives it is seeing from the input. For example, when the model is shown an image which has the label index of 5, the highest probability value should be in position 5 of the ouput nodes if it has made the correct prediction. All elements of the probability distribution output should sum to 1.\n",
    "\n",
    "\n",
    "\\begin{equation} \n",
    "o_i^{k+1} = \\frac{e^{i_i^{k}}}{\\sum_j e^{i_j^{k}}}\n",
    "\\end{equation}\n",
    "\n",
    "It is the exponential function of the current output value, divided by the sum of the exponential function of each output. \n",
    "\n",
    "This makes multi-class classification easier.\n",
    "\n"
   ]
  },
  {
   "cell_type": "code",
   "execution_count": 24,
   "id": "c7bda401",
   "metadata": {},
   "outputs": [],
   "source": [
    "# simple example \n",
    "import numpy as np\n",
    "\n",
    "# example probability values\n",
    "output = np.array([0.8,0.5,0.3])\n",
    "\n",
    "probs = np.zeros((1,3))\n",
    "for i in range(len(output)):\n",
    "    \n",
    "    p = np.exp(output[i])/(sum(np.exp(output)))\n",
    "    \n",
    "    probs[0,i] = p "
   ]
  },
  {
   "cell_type": "code",
   "execution_count": 29,
   "id": "2b6bb7b5",
   "metadata": {},
   "outputs": [
    {
     "data": {
      "text/plain": [
       "array([[0.42601251, 0.31559783, 0.25838965]])"
      ]
     },
     "execution_count": 29,
     "metadata": {},
     "output_type": "execute_result"
    }
   ],
   "source": [
    "probs"
   ]
  },
  {
   "cell_type": "code",
   "execution_count": 28,
   "id": "d342b8f3",
   "metadata": {},
   "outputs": [
    {
     "data": {
      "text/plain": [
       "1.0"
      ]
     },
     "execution_count": 28,
     "metadata": {},
     "output_type": "execute_result"
    }
   ],
   "source": [
    "np.sum(probs)"
   ]
  }
 ],
 "metadata": {
  "kernelspec": {
   "display_name": "Python [conda env:tf]",
   "language": "python",
   "name": "conda-env-tf-py"
  },
  "language_info": {
   "codemirror_mode": {
    "name": "ipython",
    "version": 3
   },
   "file_extension": ".py",
   "mimetype": "text/x-python",
   "name": "python",
   "nbconvert_exporter": "python",
   "pygments_lexer": "ipython3",
   "version": "3.9.7"
  }
 },
 "nbformat": 4,
 "nbformat_minor": 5
}
